{
 "cells": [
  {
   "cell_type": "markdown",
   "id": "87b91d83",
   "metadata": {},
   "source": [
    "# Assignment 1\n",
    "### Understanding Uncertainty\n",
    "### Due 9/5"
   ]
  },
  {
   "cell_type": "markdown",
   "id": "380e339f",
   "metadata": {},
   "source": [
    "1. Create a new public repo on Github under your account. Include a readme file.\n",
    "2. Clone it to your machine. Put this file into that repo.\n",
    "3. Use the following function to download the example data for the course:"
   ]
  },
  {
   "cell_type": "code",
   "execution_count": 1,
   "id": "2d62b4f6",
   "metadata": {},
   "outputs": [
    {
     "name": "stdout",
     "output_type": "stream",
     "text": [
      "Download file already exists\n",
      "Data directory already exists\n"
     ]
    }
   ],
   "source": [
    "def download_data(force=False):\n",
    "    \"\"\"Download and extract course data from Zenodo.\"\"\"\n",
    "    import urllib.request, zipfile, os\n",
    "    \n",
    "    zip_path = 'data.zip'\n",
    "    data_dir = 'data'\n",
    "    \n",
    "    if not os.path.exists(zip_path) or force:\n",
    "        print(\"Downloading course data\")\n",
    "        urllib.request.urlretrieve(\n",
    "            'https://zenodo.org/records/16954427/files/data.zip?download=1',\n",
    "            zip_path\n",
    "        )\n",
    "        print(\"Download complete\")\n",
    "    else:\n",
    "        print(\"Download file already exists\")\n",
    "        \n",
    "    if not os.path.exists(data_dir) or force:\n",
    "        print(\"Extracting data files...\")\n",
    "        with zipfile.ZipFile(zip_path, 'r') as zip_ref:\n",
    "            zip_ref.extractall(data_dir)\n",
    "        print(\"Data extracted\")\n",
    "    else:\n",
    "        print(\"Data directory already exists\")\n",
    "\n",
    "download_data()"
   ]
  },
  {
   "cell_type": "markdown",
   "id": "01db0045",
   "metadata": {},
   "source": [
    "4. Open one of the datasets using Pandas:\n",
    "    1. `ames_prices.csv`: Housing characteristics and prices\n",
    "    2. `college_completion.csv`: Public, nonprofit, and for-profit educational institutions, graduation rates, and financial aid\n",
    "    3. `ForeignGifts_edu.csv`: Monetary and in-kind transfers from foreign entities to U.S. educational institutions\n",
    "    4. `iowa.csv`: Liquor sales in Iowa, at the transaction level\n",
    "    5. `metabric.csv`: Cancer patient and outcome data\n",
    "    6. `mn_police_use_of_force.csv`: Records of physical altercations between Minnessota police and private citizens\n",
    "    7. `nhanes_data_17_18.csv`: National Health and Nutrition Examination Survey\n",
    "    8. `tuna.csv`: Yellowfin Tuna Genome (I don't recommend this one; it's just a sequence of G, C, A, T )\n",
    "    9. `va_procurement.csv`: Public spending by the state of Virginia"
   ]
  },
  {
   "cell_type": "code",
   "execution_count": 2,
   "id": "dab34253",
   "metadata": {},
   "outputs": [],
   "source": [
    "import pandas as pd\n",
    "import numpy as np\n",
    "df = pd.read_csv(\"data/va_procurement.csv\")"
   ]
  },
  {
   "cell_type": "markdown",
   "id": "fa5cade1",
   "metadata": {},
   "source": [
    "5. Pick two or three variables and briefly analyze them\n",
    "    - Is it a categorical or numeric variable?\n",
    "    - How many missing values are there? (`df['var'].isna()` and `np.sum()`)\n",
    "    - If categorical, tabulate the values (`df['var'].value_counts()`) and if numeric, get a summary (`df['var'].describe()`)"
   ]
  },
  {
   "cell_type": "code",
   "execution_count": 3,
   "id": "bb1cf96e",
   "metadata": {},
   "outputs": [
    {
     "data": {
      "text/plain": [
       "np.int64(0)"
      ]
     },
     "execution_count": 3,
     "metadata": {},
     "output_type": "execute_result"
    }
   ],
   "source": [
    "# Categorical variable: Vendor Address State\n",
    "np.sum(df['Vendor Address State'].isna())"
   ]
  },
  {
   "cell_type": "code",
   "execution_count": 4,
   "id": "c7a7eae5",
   "metadata": {},
   "outputs": [
    {
     "data": {
      "text/plain": [
       "Vendor Address State\n",
       "VA     50652\n",
       "PA      4736\n",
       "IL      4200\n",
       "WA      4065\n",
       "MD      3655\n",
       "       ...  \n",
       "HDF        1\n",
       "M          1\n",
       "HI         1\n",
       "FC         1\n",
       "82         1\n",
       "Name: count, Length: 69, dtype: int64"
      ]
     },
     "execution_count": 4,
     "metadata": {},
     "output_type": "execute_result"
    }
   ],
   "source": [
    "df['Vendor Address State'].value_counts()"
   ]
  },
  {
   "cell_type": "code",
   "execution_count": 5,
   "id": "744596e0",
   "metadata": {},
   "outputs": [
    {
     "data": {
      "text/plain": [
       "np.int64(0)"
      ]
     },
     "execution_count": 5,
     "metadata": {},
     "output_type": "execute_result"
    }
   ],
   "source": [
    "# Numerical variable: Unit Price\n",
    "np.sum(df['Unit Price'].isna())"
   ]
  },
  {
   "cell_type": "code",
   "execution_count": 6,
   "id": "5ff00610",
   "metadata": {},
   "outputs": [
    {
     "data": {
      "text/plain": [
       "count    9.590200e+04\n",
       "mean     1.521773e+04\n",
       "std      1.022789e+06\n",
       "min     -9.625000e+04\n",
       "25%      1.150250e+01\n",
       "50%      4.435000e+01\n",
       "75%      1.840000e+02\n",
       "max      2.094900e+08\n",
       "Name: Unit Price, dtype: float64"
      ]
     },
     "execution_count": 6,
     "metadata": {},
     "output_type": "execute_result"
    }
   ],
   "source": [
    "df['Unit Price'].describe()"
   ]
  },
  {
   "cell_type": "code",
   "execution_count": 7,
   "id": "48a64931",
   "metadata": {},
   "outputs": [
    {
     "data": {
      "text/plain": [
       "np.int64(0)"
      ]
     },
     "execution_count": 7,
     "metadata": {},
     "output_type": "execute_result"
    }
   ],
   "source": [
    "# Numerical variable: Quantity Ordered\n",
    "np.sum(df['Quantity Ordered'].isna())\n"
   ]
  },
  {
   "cell_type": "code",
   "execution_count": 8,
   "id": "35a53ed8",
   "metadata": {},
   "outputs": [
    {
     "data": {
      "text/plain": [
       "count    9.590200e+04\n",
       "mean     2.603745e+03\n",
       "std      3.789858e+05\n",
       "min      0.000000e+00\n",
       "25%      1.000000e+00\n",
       "50%      1.000000e+00\n",
       "75%      6.000000e+00\n",
       "max      1.022715e+08\n",
       "Name: Quantity Ordered, dtype: float64"
      ]
     },
     "execution_count": 8,
     "metadata": {},
     "output_type": "execute_result"
    }
   ],
   "source": [
    "df['Quantity Ordered'].describe()"
   ]
  },
  {
   "cell_type": "markdown",
   "id": "dbf2318a",
   "metadata": {},
   "source": [
    "6. What are some questions and prediction tools you could create using these data? Who would the stakeholder be for that prediction tool? What practical or ethical questions would it create? What other data would you want, that are not available in your data?"
   ]
  },
  {
   "cell_type": "markdown",
   "id": "af96cad8",
   "metadata": {},
   "source": [
    "# Average Cost Analysis\n",
    "\n",
    "Prediction Tools: Simple statistical analysis like calculating the mean would be used. For more advanced analysis, a regression model could predict the average price of a new item based on similar purchases.\n",
    "\n",
    "Stakeholders: Procurement officers could use this as a benchmark to assess new bids.\n",
    "\n",
    "Practical Questions: How do you account for variations in quality or brand? Is an average price for \"desks\" meaningful if some are cheap particle board and others are high-end wood?\n",
    "\n",
    "Ethical Questions: Could this create a race to the bottom, pressuring vendors to lower prices at the expense of quality or labor standards?\n",
    "\n",
    "Other Data: Item specifications and quality ratings for each purchased item would make the average more meaningful.\n",
    "\n",
    "# Geographic Sourcing\n",
    "\n",
    "Prediction Tools: Descriptive analysis to categorize spending by Vendor Address State.\n",
    "\n",
    "Stakeholders: State economic development agencies would be interested in how much public money stays within Virginia.\n",
    "\n",
    "Practical Questions: Does Vendor Address State reflect where the product was manufactured or just the company's headquarters? How can you account for out-of-state vendors that employ many Virginians?\n",
    "\n",
    "Ethical Questions: Could this analysis be used to create a policy that unfairly favors in-state vendors, potentially reducing competition and increasing costs?\n",
    "\n",
    "Other Data: Vendor employee data by state and subcontractor information would paint a clearer picture of economic impact."
   ]
  },
  {
   "cell_type": "markdown",
   "id": "a4a7ddc7",
   "metadata": {},
   "source": [
    "7. Commit your work to the repo (`git commit -am 'Finish assignment'` at the command line, or use the Git panel in VS Code). Push your work back to Github and submit the link on Canvas in the assignment tab."
   ]
  },
  {
   "cell_type": "markdown",
   "id": "4a0d0130",
   "metadata": {},
   "source": []
  }
 ],
 "metadata": {
  "kernelspec": {
   "display_name": "base",
   "language": "python",
   "name": "python3"
  },
  "language_info": {
   "codemirror_mode": {
    "name": "ipython",
    "version": 3
   },
   "file_extension": ".py",
   "mimetype": "text/x-python",
   "name": "python",
   "nbconvert_exporter": "python",
   "pygments_lexer": "ipython3",
   "version": "3.13.5"
  }
 },
 "nbformat": 4,
 "nbformat_minor": 5
}
